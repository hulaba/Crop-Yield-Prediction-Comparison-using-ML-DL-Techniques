{
 "cells": [
  {
   "cell_type": "code",
   "execution_count": null,
   "metadata": {},
   "outputs": [],
   "source": [
    "import pandas as pd\n",
    "import numpy as np"
   ]
  },
  {
   "cell_type": "code",
   "execution_count": null,
   "metadata": {},
   "outputs": [],
   "source": [
    "rain = pd.read_excel('Rajasthan Rainfall 1901-2002 + 2004-2010.xlsx')\n",
    "df = pd.DataFrame(rain)\n",
    "df.head()"
   ]
  },
  {
   "cell_type": "markdown",
   "metadata": {},
   "source": [
    "IDENTIFYING MISSING YEAR"
   ]
  },
  {
   "cell_type": "code",
   "execution_count": null,
   "metadata": {},
   "outputs": [],
   "source": [
    "df.Year.unique()"
   ]
  },
  {
   "cell_type": "code",
   "execution_count": null,
   "metadata": {},
   "outputs": [],
   "source": [
    "#2003 Missing"
   ]
  },
  {
   "cell_type": "markdown",
   "metadata": {},
   "source": [
    "ADDING 2003 DATA"
   ]
  },
  {
   "cell_type": "code",
   "execution_count": null,
   "metadata": {},
   "outputs": [],
   "source": [
    "df.District.value_counts()"
   ]
  },
  {
   "cell_type": "code",
   "execution_count": null,
   "metadata": {},
   "outputs": [],
   "source": [
    "df.District.replace({' Jaipur': 'Jaipur', ' Kota': 'Kota', ' Bundi':'Bundi', ' Jalore':'Jalore', ' Karauli':'Karauli', \n",
    "                     ' Rajsamand': 'Rajsamand', ' Tonk': 'Tonk', ' Dholpur':'Dholpur', ' Sri Ganganagar':'Ganganagar',\n",
    "                    ' Sawaimadhopur': 'Sawai Madhopur', ' Pali': 'Pali', ' Jodhpur':'Jodhpur', ' Bikaner':'Bikaner', ' Bhilwara':'Bhilwara', ' Alwar':'Alwar',\n",
    "                    ' Baran':'Baran', ' Sirohi':'Sirohi', ' Chittorgarh':'Chittorgarh', 'Chittaurgarh':'Chittorgarh', \n",
    "                     ' Udaipur':'Udaipur', ' Hanumangarh':'Hanumangarh', ' Jhalawar':'Jhalawar', ' Dausa': 'Dausa', \n",
    "                     ' Nagaur': 'Nagaur', ' Sikar': 'Sikar', 'Dhaulpur':'Dholpur', ' Churu':'Churu', ' Banswara':'Banswara',\n",
    "                    ' Jhunjhunu': 'Jhunjhunu', 'Jalor':'Jalore', ' Dungarpur' : \"Dungarpur\"}, regex = True, inplace = True)"
   ]
  },
  {
   "cell_type": "code",
   "execution_count": null,
   "metadata": {},
   "outputs": [],
   "source": [
    "df.District.value_counts()"
   ]
  },
  {
   "cell_type": "code",
   "execution_count": null,
   "metadata": {},
   "outputs": [],
   "source": [
    "df.District.replace({'Jhunjhunun':'Jhunjhunu', 'Jaloree':'Jalore'}, regex=True, inplace=True)"
   ]
  },
  {
   "cell_type": "code",
   "execution_count": null,
   "metadata": {},
   "outputs": [],
   "source": [
    "df.District.value_counts()"
   ]
  },
  {
   "cell_type": "code",
   "execution_count": null,
   "metadata": {},
   "outputs": [],
   "source": [
    "for i in df.District.value_counts().index:\n",
    "    x = list(df[df['District']==i].mean(axis=0))\n",
    "    x[0] = 2003\n",
    "    x.insert(0,\"Rajasthan\")\n",
    "    x.insert(1,i)\n",
    "    df.loc[len(df.index)] = x"
   ]
  },
  {
   "cell_type": "code",
   "execution_count": null,
   "metadata": {},
   "outputs": [],
   "source": [
    "df.tail(32)"
   ]
  },
  {
   "cell_type": "markdown",
   "metadata": {},
   "source": [
    "ADDING 2011 TO 2017 DATA"
   ]
  },
  {
   "cell_type": "code",
   "execution_count": null,
   "metadata": {},
   "outputs": [],
   "source": [
    "rain_11_17 = pd.read_excel(\"Book (2).xlsx\")\n",
    "df1 = pd.DataFrame(rain_11_17)\n",
    "df1.head()"
   ]
  },
  {
   "cell_type": "code",
   "execution_count": null,
   "metadata": {},
   "outputs": [],
   "source": [
    "df1.District.unique()"
   ]
  },
  {
   "cell_type": "code",
   "execution_count": null,
   "metadata": {},
   "outputs": [],
   "source": [
    "df1.District.replace({'AJMER':'Ajmer','JAIPUR':'Jaipur','DAUSA':'Dausa','TONK':'Tonk','SIKAR':'Sikar','JHUNJHUNU':'Jhunjhunu',\n",
    "                    'NAGAUR':'Nagaur','Nagour':'Nagaur','ALWAR':'Alwar','BHARATPUR':'Bharatpur','DHOLPUR':'Dholpur',\n",
    "                    'SAWAI MADHOPUR':'Sawai Madhopur','KARAULI':'Karauli','BIKANER':'Bikaner','CHURU':'Churu',\n",
    "                    'JAISALMER':'Jaisalmer','GANGANAGAR':'Ganganagar','HANUMANGARH':'Hanumangarh','JODHPUR':'Jodhpur',\n",
    "                    'BARMER':'Barmer','JALORE':'Jalore','PALI':'Pali','SIROHI':'Sirohi','KOTA':'Kota','BARAN':'Baran',\n",
    "                    'BUNDI':'Bundi','JHALAWAR':'Jhalawar','BANSWARA':'Banswara','DUNGARPUR':'Dungarpur','UDAIPUR':'Udaipur',\n",
    "                    'BHILWARA':'Bhilwara','CHITTORGARH':'Chittorgarh','RAJSAMAND':'Rajsamand'}, regex=True, inplace=True)"
   ]
  },
  {
   "cell_type": "code",
   "execution_count": null,
   "metadata": {},
   "outputs": [],
   "source": [
    "df1.District.unique()"
   ]
  },
  {
   "cell_type": "code",
   "execution_count": null,
   "metadata": {},
   "outputs": [],
   "source": [
    "df1.District.replace({'Rajsamamd':'Rajsamand','Baran':'Ваran','Jaipur':'Јаipur','Jalore':'Јаlore','Barmer':'Вarmer',\n",
    "                    'Hanumangarh':'Наnumangarh','Тоnk':'Tonk','Pali':'Раli'}, regex=True, inplace=True)"
   ]
  },
  {
   "cell_type": "code",
   "execution_count": null,
   "metadata": {},
   "outputs": [],
   "source": [
    "df1.District.value_counts()"
   ]
  },
  {
   "cell_type": "code",
   "execution_count": null,
   "metadata": {},
   "outputs": [],
   "source": [
    "df1.District.unique()"
   ]
  },
  {
   "cell_type": "code",
   "execution_count": null,
   "metadata": {},
   "outputs": [],
   "source": [
    "df1.drop(df1[df1[\"District\"]==\"Pratapgarh\"].index,inplace=True)"
   ]
  },
  {
   "cell_type": "code",
   "execution_count": null,
   "metadata": {},
   "outputs": [],
   "source": [
    "df1.District.value_counts()"
   ]
  },
  {
   "cell_type": "markdown",
   "metadata": {},
   "source": [
    "MERGING THE 2 DATA FRAMES"
   ]
  },
  {
   "cell_type": "code",
   "execution_count": null,
   "metadata": {},
   "outputs": [],
   "source": [
    "frames = [df,df1]\n",
    "res = pd.concat(frames)"
   ]
  },
  {
   "cell_type": "code",
   "execution_count": null,
   "metadata": {},
   "outputs": [],
   "source": [
    "res.head()"
   ]
  },
  {
   "cell_type": "code",
   "execution_count": null,
   "metadata": {},
   "outputs": [],
   "source": [
    "res.Year.unique()"
   ]
  },
  {
   "cell_type": "code",
   "execution_count": null,
   "metadata": {},
   "outputs": [],
   "source": [
    "res.Year.value_counts()"
   ]
  },
  {
   "cell_type": "markdown",
   "metadata": {},
   "source": [
    "ADDING THE MISSING YEARS -> 2018 & 2019"
   ]
  },
  {
   "cell_type": "code",
   "execution_count": null,
   "metadata": {},
   "outputs": [],
   "source": [
    "res.District.value_counts()"
   ]
  },
  {
   "cell_type": "code",
   "execution_count": null,
   "metadata": {},
   "outputs": [],
   "source": [
    "res.District.unique()"
   ]
  },
  {
   "cell_type": "code",
   "execution_count": null,
   "metadata": {},
   "outputs": [],
   "source": [
    "res.replace({'Baran':'Ваran','Barmer':'Вarmer','Pali':'Раli','Jalore':'Јаlore','Jaipur':'Јаipur',\n",
    "             'Hanumangarh':'Наnumangarh'},regex=True,inplace=True)"
   ]
  },
  {
   "cell_type": "code",
   "execution_count": null,
   "metadata": {},
   "outputs": [],
   "source": [
    "res.District.unique()"
   ]
  },
  {
   "cell_type": "code",
   "execution_count": null,
   "metadata": {},
   "outputs": [],
   "source": [
    "res.District.value_counts()"
   ]
  },
  {
   "cell_type": "code",
   "execution_count": null,
   "metadata": {},
   "outputs": [],
   "source": [
    "for i in res.District.value_counts().index:\n",
    "    x = list(res[res['District']==i].mean(axis=0))\n",
    "    x[0] = 2018\n",
    "    x.insert(0,\"Rajasthan\")\n",
    "    x.insert(1,i)\n",
    "    res.loc[len(res.index)] = x"
   ]
  },
  {
   "cell_type": "code",
   "execution_count": null,
   "metadata": {},
   "outputs": [],
   "source": [
    "res.tail(32)"
   ]
  },
  {
   "cell_type": "code",
   "execution_count": null,
   "metadata": {},
   "outputs": [],
   "source": [
    "for i in res.District.value_counts().index:\n",
    "    x = list(res[res['District']==i].mean(axis=0))\n",
    "    x[0] = 2019\n",
    "    x.insert(0,\"Rajasthan\")\n",
    "    x.insert(1,i)\n",
    "    res.loc[len(res.index)] = x"
   ]
  },
  {
   "cell_type": "code",
   "execution_count": null,
   "metadata": {},
   "outputs": [],
   "source": [
    "res.tail(32)"
   ]
  },
  {
   "cell_type": "code",
   "execution_count": null,
   "metadata": {},
   "outputs": [],
   "source": [
    "res.shape"
   ]
  },
  {
   "cell_type": "markdown",
   "metadata": {},
   "source": [
    "DROPPING ROWS THAT ARE NOT REQUIRED"
   ]
  },
  {
   "cell_type": "code",
   "execution_count": null,
   "metadata": {},
   "outputs": [],
   "source": [
    "m = res[(res.Year >= 1901) & (res.Year <= 1996)].index\n",
    "res.drop(m,inplace=True)"
   ]
  },
  {
   "cell_type": "code",
   "execution_count": null,
   "metadata": {},
   "outputs": [],
   "source": [
    "res.Year.unique()"
   ]
  },
  {
   "cell_type": "code",
   "execution_count": null,
   "metadata": {},
   "outputs": [],
   "source": [
    "res.shape"
   ]
  },
  {
   "cell_type": "code",
   "execution_count": null,
   "metadata": {},
   "outputs": [],
   "source": [
    "res.head()"
   ]
  },
  {
   "cell_type": "markdown",
   "metadata": {},
   "source": [
    "EXPORTING FILE"
   ]
  },
  {
   "cell_type": "code",
   "execution_count": null,
   "metadata": {},
   "outputs": [],
   "source": [
    "res.sort_values(['District','Year'],inplace=True)"
   ]
  },
  {
   "cell_type": "code",
   "execution_count": null,
   "metadata": {},
   "outputs": [],
   "source": [
    "res.to_excel(\"Rainfall_1997_to_2019.xlsx\",index=False)"
   ]
  },
  {
   "cell_type": "code",
   "execution_count": null,
   "metadata": {},
   "outputs": [],
   "source": []
  }
 ],
 "metadata": {
  "kernelspec": {
   "display_name": "Python 3",
   "language": "python",
   "name": "python3"
  },
  "language_info": {
   "codemirror_mode": {
    "name": "ipython",
    "version": 3
   },
   "file_extension": ".py",
   "mimetype": "text/x-python",
   "name": "python",
   "nbconvert_exporter": "python",
   "pygments_lexer": "ipython3",
   "version": "3.7.6"
  }
 },
 "nbformat": 4,
 "nbformat_minor": 4
}
