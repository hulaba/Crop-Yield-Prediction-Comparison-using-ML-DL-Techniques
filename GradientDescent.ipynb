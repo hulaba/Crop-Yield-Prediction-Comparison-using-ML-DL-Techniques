{
 "cells": [
  {
   "cell_type": "code",
   "execution_count": 1,
   "metadata": {},
   "outputs": [],
   "source": [
    "import numpy as np\n",
    "import pandas as pd"
   ]
  },
  {
   "cell_type": "code",
   "execution_count": 2,
   "metadata": {},
   "outputs": [
    {
     "data": {
      "text/html": [
       "<div>\n",
       "<style scoped>\n",
       "    .dataframe tbody tr th:only-of-type {\n",
       "        vertical-align: middle;\n",
       "    }\n",
       "\n",
       "    .dataframe tbody tr th {\n",
       "        vertical-align: top;\n",
       "    }\n",
       "\n",
       "    .dataframe thead th {\n",
       "        text-align: right;\n",
       "    }\n",
       "</style>\n",
       "<table border=\"1\" class=\"dataframe\">\n",
       "  <thead>\n",
       "    <tr style=\"text-align: right;\">\n",
       "      <th></th>\n",
       "      <th>Year</th>\n",
       "      <th>Area</th>\n",
       "      <th>Production</th>\n",
       "      <th>Yield</th>\n",
       "      <th>Predominantly reddish medium texture</th>\n",
       "      <th>Red desert soils</th>\n",
       "      <th>Sandy loam</th>\n",
       "      <th>Soil are lithosolsat foot hills &amp; alluvials in plains</th>\n",
       "      <th>brown soils</th>\n",
       "      <th>clay loam</th>\n",
       "      <th>...</th>\n",
       "      <th>District_Ваran</th>\n",
       "      <th>District_Наnumangarh</th>\n",
       "      <th>District_Раli</th>\n",
       "      <th>Season_Kharif</th>\n",
       "      <th>Season_Rabi</th>\n",
       "      <th>Crop_Bajra</th>\n",
       "      <th>Crop_Barley</th>\n",
       "      <th>Crop_Jowar</th>\n",
       "      <th>Crop_Rapeseed &amp;Mustard</th>\n",
       "      <th>Crop_Wheat</th>\n",
       "    </tr>\n",
       "  </thead>\n",
       "  <tbody>\n",
       "    <tr>\n",
       "      <th>0</th>\n",
       "      <td>1997</td>\n",
       "      <td>56600</td>\n",
       "      <td>30400.0</td>\n",
       "      <td>0.537102</td>\n",
       "      <td>0</td>\n",
       "      <td>0</td>\n",
       "      <td>0</td>\n",
       "      <td>0</td>\n",
       "      <td>1</td>\n",
       "      <td>0</td>\n",
       "      <td>...</td>\n",
       "      <td>0</td>\n",
       "      <td>0</td>\n",
       "      <td>0</td>\n",
       "      <td>1</td>\n",
       "      <td>0</td>\n",
       "      <td>1</td>\n",
       "      <td>0</td>\n",
       "      <td>0</td>\n",
       "      <td>0</td>\n",
       "      <td>0</td>\n",
       "    </tr>\n",
       "    <tr>\n",
       "      <th>1</th>\n",
       "      <td>1997</td>\n",
       "      <td>105900</td>\n",
       "      <td>34600.0</td>\n",
       "      <td>0.326723</td>\n",
       "      <td>0</td>\n",
       "      <td>0</td>\n",
       "      <td>0</td>\n",
       "      <td>0</td>\n",
       "      <td>1</td>\n",
       "      <td>0</td>\n",
       "      <td>...</td>\n",
       "      <td>0</td>\n",
       "      <td>0</td>\n",
       "      <td>0</td>\n",
       "      <td>1</td>\n",
       "      <td>0</td>\n",
       "      <td>0</td>\n",
       "      <td>0</td>\n",
       "      <td>1</td>\n",
       "      <td>0</td>\n",
       "      <td>0</td>\n",
       "    </tr>\n",
       "    <tr>\n",
       "      <th>2</th>\n",
       "      <td>1997</td>\n",
       "      <td>24700</td>\n",
       "      <td>28900.0</td>\n",
       "      <td>1.170040</td>\n",
       "      <td>0</td>\n",
       "      <td>0</td>\n",
       "      <td>0</td>\n",
       "      <td>0</td>\n",
       "      <td>1</td>\n",
       "      <td>0</td>\n",
       "      <td>...</td>\n",
       "      <td>0</td>\n",
       "      <td>0</td>\n",
       "      <td>0</td>\n",
       "      <td>0</td>\n",
       "      <td>1</td>\n",
       "      <td>0</td>\n",
       "      <td>1</td>\n",
       "      <td>0</td>\n",
       "      <td>0</td>\n",
       "      <td>0</td>\n",
       "    </tr>\n",
       "    <tr>\n",
       "      <th>3</th>\n",
       "      <td>1997</td>\n",
       "      <td>36700</td>\n",
       "      <td>25400.0</td>\n",
       "      <td>0.692098</td>\n",
       "      <td>0</td>\n",
       "      <td>0</td>\n",
       "      <td>0</td>\n",
       "      <td>0</td>\n",
       "      <td>1</td>\n",
       "      <td>0</td>\n",
       "      <td>...</td>\n",
       "      <td>0</td>\n",
       "      <td>0</td>\n",
       "      <td>0</td>\n",
       "      <td>0</td>\n",
       "      <td>1</td>\n",
       "      <td>0</td>\n",
       "      <td>0</td>\n",
       "      <td>0</td>\n",
       "      <td>1</td>\n",
       "      <td>0</td>\n",
       "    </tr>\n",
       "    <tr>\n",
       "      <th>4</th>\n",
       "      <td>1997</td>\n",
       "      <td>79300</td>\n",
       "      <td>144500.0</td>\n",
       "      <td>1.822194</td>\n",
       "      <td>0</td>\n",
       "      <td>0</td>\n",
       "      <td>0</td>\n",
       "      <td>0</td>\n",
       "      <td>1</td>\n",
       "      <td>0</td>\n",
       "      <td>...</td>\n",
       "      <td>0</td>\n",
       "      <td>0</td>\n",
       "      <td>0</td>\n",
       "      <td>0</td>\n",
       "      <td>1</td>\n",
       "      <td>0</td>\n",
       "      <td>0</td>\n",
       "      <td>0</td>\n",
       "      <td>0</td>\n",
       "      <td>1</td>\n",
       "    </tr>\n",
       "  </tbody>\n",
       "</table>\n",
       "<p>5 rows × 71 columns</p>\n",
       "</div>"
      ],
      "text/plain": [
       "   Year    Area  Production     Yield   Predominantly reddish medium texture  \\\n",
       "0  1997   56600     30400.0  0.537102                                      0   \n",
       "1  1997  105900     34600.0  0.326723                                      0   \n",
       "2  1997   24700     28900.0  1.170040                                      0   \n",
       "3  1997   36700     25400.0  0.692098                                      0   \n",
       "4  1997   79300    144500.0  1.822194                                      0   \n",
       "\n",
       "    Red desert soils   Sandy loam  \\\n",
       "0                  0            0   \n",
       "1                  0            0   \n",
       "2                  0            0   \n",
       "3                  0            0   \n",
       "4                  0            0   \n",
       "\n",
       "    Soil are lithosolsat foot hills & alluvials in plains   brown soils  \\\n",
       "0                                                  0                  1   \n",
       "1                                                  0                  1   \n",
       "2                                                  0                  1   \n",
       "3                                                  0                  1   \n",
       "4                                                  0                  1   \n",
       "\n",
       "    clay loam  ...  District_Ваran  District_Наnumangarh  District_Раli  \\\n",
       "0           0  ...               0                     0              0   \n",
       "1           0  ...               0                     0              0   \n",
       "2           0  ...               0                     0              0   \n",
       "3           0  ...               0                     0              0   \n",
       "4           0  ...               0                     0              0   \n",
       "\n",
       "   Season_Kharif  Season_Rabi  Crop_Bajra  Crop_Barley  Crop_Jowar  \\\n",
       "0              1            0           1            0           0   \n",
       "1              1            0           0            0           1   \n",
       "2              0            1           0            1           0   \n",
       "3              0            1           0            0           0   \n",
       "4              0            1           0            0           0   \n",
       "\n",
       "   Crop_Rapeseed &Mustard  Crop_Wheat  \n",
       "0                       0           0  \n",
       "1                       0           0  \n",
       "2                       0           0  \n",
       "3                       1           0  \n",
       "4                       0           1  \n",
       "\n",
       "[5 rows x 71 columns]"
      ]
     },
     "execution_count": 2,
     "metadata": {},
     "output_type": "execute_result"
    }
   ],
   "source": [
    "data = pd.DataFrame(pd.read_excel(\"Dataset_for_Prediction.xlsx\"))\n",
    "data.head()"
   ]
  },
  {
   "cell_type": "code",
   "execution_count": 3,
   "metadata": {},
   "outputs": [
    {
     "data": {
      "text/plain": [
       "Year                                      0\n",
       "Area                                      0\n",
       "Production                                9\n",
       "Yield                                    20\n",
       " Predominantly reddish medium texture     0\n",
       "                                         ..\n",
       "Crop_Bajra                                0\n",
       "Crop_Barley                               0\n",
       "Crop_Jowar                                0\n",
       "Crop_Rapeseed &Mustard                    0\n",
       "Crop_Wheat                                0\n",
       "Length: 71, dtype: int64"
      ]
     },
     "execution_count": 3,
     "metadata": {},
     "output_type": "execute_result"
    }
   ],
   "source": [
    "data.isnull().sum()"
   ]
  },
  {
   "cell_type": "code",
   "execution_count": 4,
   "metadata": {},
   "outputs": [],
   "source": [
    "data.dropna(inplace=True)"
   ]
  },
  {
   "cell_type": "code",
   "execution_count": 5,
   "metadata": {},
   "outputs": [],
   "source": [
    "x = data.drop(\"Yield\",axis=1)\n",
    "y = data[[\"Yield\"]]\n",
    "\n",
    "cols = ['Yield',' Predominantly reddish medium texture', ' Red desert soils',\n",
    "       ' Sandy loam', ' Soil are lithosolsat foot hills & alluvials in plains',\n",
    "       ' brown soils', ' clay loam',\n",
    "       ' coarse sand in texture some places calcareous',\n",
    "       ' deep soils in valleys', ' eastern part alluvial', ' foot hills',\n",
    "       ' groundwater salinity', ' high soluble salts & exchangeable sodium',\n",
    "       ' loamycoarse in texture & calcareous',\n",
    "       ' nature of recently alluvial calcareous has been observed',\n",
    "       ' sallow depth red soils in depressions', ' shallow on hills',\n",
    "       ' well drained calcareous', ' west north west lithosols',\n",
    "       'Alluvial deposites calcareous', 'Alluvial prone to water logging',\n",
    "       'Black of alluvial origin', 'Desert soils and sand dunes aeolian soil',\n",
    "       'Predominantly reddish medium texture', 'Red desert soils',\n",
    "       'Sandy loam', 'Sierozens',\n",
    "       'Soil are lithosolsat foot hills & alluvials in plains',\n",
    "       'Mean_Seasonal_Rainfall']\n",
    "\n",
    "#selected parameters\n",
    "x1 = data.drop(cols,axis=1)\n",
    "\n",
    "from sklearn.preprocessing import StandardScaler\n",
    "std = StandardScaler()\n",
    "x = std.fit_transform(x)\n",
    "y = std.fit_transform(y)\n",
    "x1 = std.fit_transform(x1)\n",
    "\n",
    "from sklearn.model_selection import train_test_split\n",
    "x_train, x_test, y_train, y_test = train_test_split(x, y, test_size=0.02, random_state=71)\n",
    "x1_train, x1_test, y_train, y_test = train_test_split(x1, y, test_size=0.02, random_state=71)"
   ]
  },
  {
   "cell_type": "code",
   "execution_count": 6,
   "metadata": {},
   "outputs": [],
   "source": [
    "x_train = x_train.reshape(x_train.shape[0],-1).T\n",
    "x_test =  x_test.reshape(x_test.shape[0],-1).T\n",
    "y_train = y_train.reshape(y_train.shape[0],-1).T"
   ]
  },
  {
   "cell_type": "code",
   "execution_count": 7,
   "metadata": {},
   "outputs": [],
   "source": [
    "def model(x,y,dim,learning_rate):\n",
    "    w = np.zeros((dim,1))\n",
    "    b = 0.0\n",
    "\n",
    "    m = x.shape[1]\n",
    "    A = np.dot(w.T,x)+b\n",
    "    cost = (1/(m))*np.sum((A-y)**2)\n",
    "\n",
    "    dz = (1/m)*(A-y)\n",
    "    dw = np.dot(x,dz.T)\n",
    "    db = np.sum(dz)\n",
    "\n",
    "    costs = []\n",
    "\n",
    "    for i in range (200):\n",
    "        \n",
    "        w = w - (learning_rate*dw)\n",
    "        b = b - (learning_rate*db)\n",
    "    \n",
    "        if i%1000 == 0:\n",
    "            costs.append(cost)\n",
    "        \n",
    "    parameters = {\"w\":w,\"b\":b}\n",
    "    gradients = {\"dw\":dw,\"db\":db}\n",
    "    \n",
    "    return parameters, gradients, cost\n",
    "\n"
   ]
  },
  {
   "cell_type": "code",
   "execution_count": 8,
   "metadata": {},
   "outputs": [],
   "source": [
    "def pred (w,b,x):\n",
    "    m = x.shape[1]\n",
    "    y_pred = np.zeros((1,m))\n",
    "    w = w.reshape(x.shape[0],1)\n",
    "    \n",
    "    y_pred = np.dot(w.T,x)+b\n",
    "    \n",
    "    return y_pred"
   ]
  },
  {
   "cell_type": "code",
   "execution_count": 9,
   "metadata": {},
   "outputs": [
    {
     "data": {
      "text/plain": [
       "1.0198119517753892"
      ]
     },
     "execution_count": 9,
     "metadata": {},
     "output_type": "execute_result"
    }
   ],
   "source": [
    "parameters, gradients, cost = model(x_train,y_train,70,0.001)\n",
    "cost"
   ]
  },
  {
   "cell_type": "code",
   "execution_count": 10,
   "metadata": {},
   "outputs": [],
   "source": [
    "w = parameters[\"w\"]\n",
    "b = parameters[\"b\"]"
   ]
  },
  {
   "cell_type": "code",
   "execution_count": 11,
   "metadata": {},
   "outputs": [],
   "source": [
    "pred_all = pred(w,b,x_test)"
   ]
  },
  {
   "cell_type": "code",
   "execution_count": 13,
   "metadata": {},
   "outputs": [
    {
     "name": "stdout",
     "output_type": "stream",
     "text": [
      "(73, 1)\n",
      "(73, 1)\n"
     ]
    }
   ],
   "source": [
    "pred_all = pred_all.reshape(pred_all.shape[0],-1).T\n",
    "print(pred_all.shape)\n",
    "print(y_test.shape)"
   ]
  },
  {
   "cell_type": "code",
   "execution_count": 14,
   "metadata": {},
   "outputs": [
    {
     "data": {
      "text/plain": [
       "92.09301584199703"
      ]
     },
     "execution_count": 14,
     "metadata": {},
     "output_type": "execute_result"
    }
   ],
   "source": [
    "auc_test = 100 - np.mean(np.abs(pred_all - y_test)*100)\n",
    "auc_test"
   ]
  },
  {
   "cell_type": "code",
   "execution_count": 15,
   "metadata": {},
   "outputs": [
    {
     "name": "stdout",
     "output_type": "stream",
     "text": [
      "R2score: 0.737347767385024\n",
      "RMSE: 0.09606976093705671\n",
      "MAE: 0.07906984158002965\n"
     ]
    }
   ],
   "source": [
    "from sklearn.metrics import r2_score, mean_squared_error, mean_absolute_error\n",
    " \n",
    "print(\"R2score:\", r2_score(y_test,pred_all))\n",
    "print('RMSE:', np.sqrt(mean_squared_error(y_test, pred_all)))\n",
    "print('MAE:', mean_absolute_error(y_test, pred_all))"
   ]
  },
  {
   "cell_type": "code",
   "execution_count": 16,
   "metadata": {},
   "outputs": [],
   "source": [
    "x1_train = x1_train.reshape(x1_train.shape[0],-1).T\n",
    "x1_test =  x1_test.reshape(x1_test.shape[0],-1).T"
   ]
  },
  {
   "cell_type": "code",
   "execution_count": 19,
   "metadata": {},
   "outputs": [
    {
     "data": {
      "text/plain": [
       "1.0198119517753892"
      ]
     },
     "execution_count": 19,
     "metadata": {},
     "output_type": "execute_result"
    }
   ],
   "source": [
    "parameters, gradients, cost = model(x1_train,y_train,42,0.001)\n",
    "cost"
   ]
  },
  {
   "cell_type": "code",
   "execution_count": 20,
   "metadata": {},
   "outputs": [],
   "source": [
    "w = parameters[\"w\"]\n",
    "b = parameters[\"b\"]"
   ]
  },
  {
   "cell_type": "code",
   "execution_count": 21,
   "metadata": {},
   "outputs": [],
   "source": [
    "pred_sel = pred(w,b,x1_test)\n",
    "pred_sel = pred_sel.reshape(pred_sel.shape[0],-1).T"
   ]
  },
  {
   "cell_type": "code",
   "execution_count": 22,
   "metadata": {},
   "outputs": [
    {
     "data": {
      "text/plain": [
       "91.16665107775859"
      ]
     },
     "execution_count": 22,
     "metadata": {},
     "output_type": "execute_result"
    }
   ],
   "source": [
    "auc_test1 = 100 - np.mean(np.abs(pred_sel - y_test)*100)\n",
    "auc_test1"
   ]
  },
  {
   "cell_type": "code",
   "execution_count": 23,
   "metadata": {},
   "outputs": [
    {
     "name": "stdout",
     "output_type": "stream",
     "text": [
      "R2score: 0.6721446803333357\n",
      "RMSE: 0.10733399123627024\n",
      "MAE: 0.08833348922241419\n"
     ]
    }
   ],
   "source": [
    "from sklearn.metrics import r2_score, mean_squared_error, mean_absolute_error\n",
    " \n",
    "print(\"R2score:\", r2_score(y_test,pred_sel))\n",
    "print('RMSE:', np.sqrt(mean_squared_error(y_test, pred_sel)))\n",
    "print('MAE:', mean_absolute_error(y_test, pred_sel))"
   ]
  },
  {
   "cell_type": "code",
   "execution_count": 25,
   "metadata": {},
   "outputs": [
    {
     "data": {
      "image/png": "[encoded data removed]",
      "text/plain": [
       "<Figure size 1080x360 with 1 Axes>"
      ]
     },
     "metadata": {
      "needs_background": "light"
     },
     "output_type": "display_data"
    }
   ],
   "source": [
    "import matplotlib.pyplot as plt\n",
    "plt.figure(figsize = (15,5))\n",
    "plt.plot(y_test, color='orange',label='Real Yield')\n",
    "plt.plot(pred_all, color='blue',label='Predicted Yield (all parameters)')\n",
    "plt.plot(pred_sel, color='green',label='Predicted Yield (selected parameters)')\n",
    "plt.title('Yield Prediction Using Gradient Descent')\n",
    "plt.xlabel(\"Tested Data Points\")\n",
    "plt.ylabel('Yield')\n",
    "plt.legend()\n",
    "plt.show()"
   ]
  },
  {
   "cell_type": "code",
   "execution_count": null,
   "metadata": {},
   "outputs": [],
   "source": []
  }
 ],
 "metadata": {
  "kernelspec": {
   "display_name": "Python 3",
   "language": "python",
   "name": "python3"
  },
  "language_info": {
   "codemirror_mode": {
    "name": "ipython",
    "version": 3
   },
   "file_extension": ".py",
   "mimetype": "text/x-python",
   "name": "python",
   "nbconvert_exporter": "python",
   "pygments_lexer": "ipython3",
   "version": "3.7.6"
  }
 },
 "nbformat": 4,
 "nbformat_minor": 4
}
